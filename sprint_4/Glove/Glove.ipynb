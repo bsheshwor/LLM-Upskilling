{
  "nbformat": 4,
  "nbformat_minor": 0,
  "metadata": {
    "colab": {
      "provenance": []
    },
    "kernelspec": {
      "name": "python3",
      "display_name": "Python 3"
    },
    "language_info": {
      "name": "python"
    }
  },
  "cells": [
    {
      "cell_type": "markdown",
      "source": [
        "## **GloVe Vectors**"
      ],
      "metadata": {
        "id": "Q1wbtSKDvFt8"
      }
    },
    {
      "cell_type": "code",
      "execution_count": null,
      "metadata": {
        "colab": {
          "base_uri": "https://localhost:8080/"
        },
        "id": "Idp_iVbXvBrv",
        "outputId": "6ffb96bd-20eb-4890-a4a3-351a11ee9957"
      },
      "outputs": [
        {
          "output_type": "stream",
          "name": "stderr",
          "text": [
            ".vector_cache/glove.6B.zip: 862MB [02:44, 5.23MB/s]                           \n",
            "100%|█████████▉| 399999/400000 [00:23<00:00, 16896.05it/s]\n"
          ]
        }
      ],
      "source": [
        "import torch\n",
        "import torchtext\n",
        "\n",
        "glove = torchtext.vocab.GloVe(name='6B',\n",
        "                              dim=100)"
      ]
    },
    {
      "cell_type": "code",
      "source": [
        "glove['cat']"
      ],
      "metadata": {
        "colab": {
          "base_uri": "https://localhost:8080/"
        },
        "id": "xbwOHSbCvRV3",
        "outputId": "29471dd8-ec59-4496-c4d3-fbb96df3d06d"
      },
      "execution_count": null,
      "outputs": [
        {
          "output_type": "execute_result",
          "data": {
            "text/plain": [
              "tensor([ 0.2309,  0.2828,  0.6318, -0.5941, -0.5860,  0.6326,  0.2440, -0.1411,\n",
              "         0.0608, -0.7898, -0.2910,  0.1429,  0.7227,  0.2043,  0.1407,  0.9876,\n",
              "         0.5253,  0.0975,  0.8822,  0.5122,  0.4020,  0.2117, -0.0131, -0.7162,\n",
              "         0.5539,  1.1452, -0.8804, -0.5022, -0.2281,  0.0239,  0.1072,  0.0837,\n",
              "         0.5501,  0.5848,  0.7582,  0.4571, -0.2800,  0.2522,  0.6896, -0.6097,\n",
              "         0.1958,  0.0442, -0.3114, -0.6883, -0.2272,  0.4618, -0.7716,  0.1021,\n",
              "         0.5564,  0.0674, -0.5721,  0.2374,  0.4717,  0.8277, -0.2926, -1.3422,\n",
              "        -0.0993,  0.2814,  0.4160,  0.1058,  0.6220,  0.8950, -0.2345,  0.5135,\n",
              "         0.9938,  1.1846, -0.1636,  0.2065,  0.7385,  0.2406, -0.9647,  0.1348,\n",
              "        -0.0072,  0.3302, -0.1236,  0.2719, -0.4095,  0.0219, -0.6069,  0.4076,\n",
              "         0.1957, -0.4180,  0.1864, -0.0327, -0.7857, -0.1385,  0.0440, -0.0844,\n",
              "         0.0491,  0.2410,  0.4527, -0.1868,  0.4618,  0.0891, -0.1819, -0.0152,\n",
              "        -0.7368, -0.1453,  0.1510, -0.7149])"
            ]
          },
          "metadata": {},
          "execution_count": 2
        }
      ]
    },
    {
      "cell_type": "markdown",
      "source": [
        "# **Measuring Distance**"
      ],
      "metadata": {
        "id": "x8Ex4CkzweG0"
      }
    },
    {
      "cell_type": "code",
      "source": [
        "y = glove['cat']\n",
        "x = glove['dog']\n",
        "torch.norm(y - x)"
      ],
      "metadata": {
        "colab": {
          "base_uri": "https://localhost:8080/"
        },
        "id": "qCwBmrZpwTuH",
        "outputId": "9c03fb5c-12b0-4233-a548-5b4d23bd098f"
      },
      "execution_count": null,
      "outputs": [
        {
          "output_type": "execute_result",
          "data": {
            "text/plain": [
              "tensor(2.6811)"
            ]
          },
          "metadata": {},
          "execution_count": 3
        }
      ]
    },
    {
      "cell_type": "code",
      "source": [
        "x = torch.tensor([1., 1., 1.]).unsqueeze(0)\n",
        "y = torch.tensor([2., 2., 2.]).unsqueeze(0)\n",
        "torch.cosine_similarity(x, y) # should be one"
      ],
      "metadata": {
        "colab": {
          "base_uri": "https://localhost:8080/"
        },
        "id": "4chdnOr7wmB7",
        "outputId": "6e9031d0-1a4b-40f4-92ca-038fafdb3533"
      },
      "execution_count": null,
      "outputs": [
        {
          "output_type": "execute_result",
          "data": {
            "text/plain": [
              "tensor([1.0000])"
            ]
          },
          "metadata": {},
          "execution_count": 4
        }
      ]
    },
    {
      "cell_type": "code",
      "source": [
        "x"
      ],
      "metadata": {
        "colab": {
          "base_uri": "https://localhost:8080/"
        },
        "id": "-MUbkhFzwy4V",
        "outputId": "48c83176-4757-4a6e-abf9-d43a37e59a26"
      },
      "execution_count": null,
      "outputs": [
        {
          "output_type": "execute_result",
          "data": {
            "text/plain": [
              "tensor([[1., 1., 1.]])"
            ]
          },
          "metadata": {},
          "execution_count": 5
        }
      ]
    },
    {
      "cell_type": "code",
      "source": [
        "x = glove['cat']\n",
        "y = glove['dog']\n",
        "torch.cosine_similarity(glove['cat'].unsqueeze(0),\n",
        "                        glove['dog'].unsqueeze(0))"
      ],
      "metadata": {
        "colab": {
          "base_uri": "https://localhost:8080/"
        },
        "id": "P1vcVtx8w0Gj",
        "outputId": "c46b1441-a5a2-42a3-bebc-f5395430abc5"
      },
      "execution_count": null,
      "outputs": [
        {
          "output_type": "execute_result",
          "data": {
            "text/plain": [
              "tensor([0.8798])"
            ]
          },
          "metadata": {},
          "execution_count": 6
        }
      ]
    },
    {
      "cell_type": "markdown",
      "source": [
        "Word Similarity"
      ],
      "metadata": {
        "id": "QpZpdTfuw_Az"
      }
    },
    {
      "cell_type": "code",
      "source": [
        "word = 'cat'\n",
        "other = ['dog', 'bike', 'kitten', 'puppy', 'kite', 'computer', 'neuron']\n",
        "for w in other:\n",
        "    dist = torch.norm(glove[word] - glove[w]) # euclidean distance\n",
        "    print(w, float(dist))"
      ],
      "metadata": {
        "colab": {
          "base_uri": "https://localhost:8080/"
        },
        "id": "kzNlD9jFw8kA",
        "outputId": "5e3de7f0-3d2c-4ca6-cb64-51846c016510"
      },
      "execution_count": null,
      "outputs": [
        {
          "output_type": "stream",
          "name": "stdout",
          "text": [
            "dog 2.681130886077881\n",
            "bike 6.0225629806518555\n",
            "kitten 4.454165935516357\n",
            "puppy 3.9275598526000977\n",
            "kite 5.85930061340332\n",
            "computer 6.960630893707275\n",
            "neuron 7.568032264709473\n"
          ]
        }
      ]
    },
    {
      "cell_type": "code",
      "source": [
        "def print_closest_words(vec, n=5):\n",
        "    dists = torch.norm(glove.vectors - vec, dim=1)     # compute distances to all words\n",
        "    lst = sorted(enumerate(dists.numpy()), key=lambda x: x[1]) # sort by distance\n",
        "    for idx, difference in lst[1:n+1]: \t\t\t\t\t       # take the top n\n",
        "        print(glove.itos[idx], difference)\n",
        "\n",
        "print_closest_words(glove[\"cat\"], n=10)"
      ],
      "metadata": {
        "colab": {
          "base_uri": "https://localhost:8080/"
        },
        "id": "5WzcRSXFxAkV",
        "outputId": "bdcb0b25-a6fe-42be-8d20-480700d6e0c1"
      },
      "execution_count": null,
      "outputs": [
        {
          "output_type": "stream",
          "name": "stdout",
          "text": [
            "dog 2.681131\n",
            "rabbit 3.6489704\n",
            "cats 3.6892002\n",
            "monkey 3.7469323\n",
            "puppy 3.9275599\n",
            "pet 3.9499722\n",
            "dogs 4.0555873\n",
            "rat 4.131533\n",
            "mouse 4.197826\n",
            "spider 4.2696805\n"
          ]
        }
      ]
    },
    {
      "cell_type": "code",
      "source": [
        "print_closest_words(glove['computer'])"
      ],
      "metadata": {
        "colab": {
          "base_uri": "https://localhost:8080/"
        },
        "id": "HYEq9gQ1xOLw",
        "outputId": "29e822c0-5fac-47a3-e6ef-85b56ab0a60b"
      },
      "execution_count": null,
      "outputs": [
        {
          "output_type": "stream",
          "name": "stdout",
          "text": [
            "computers 3.1775317\n",
            "software 3.711449\n",
            "technology 4.408793\n",
            "hardware 4.52742\n",
            "pc 4.5814285\n"
          ]
        }
      ]
    },
    {
      "cell_type": "markdown",
      "source": [
        "# **Analogies**"
      ],
      "metadata": {
        "id": "y2kVlCYIxawF"
      }
    },
    {
      "cell_type": "code",
      "source": [
        "print_closest_words(glove['queen'] - glove['woman'] + glove['man'])"
      ],
      "metadata": {
        "colab": {
          "base_uri": "https://localhost:8080/"
        },
        "id": "sPdoVY2WxZZ2",
        "outputId": "c4af5319-a10b-4b89-80b7-dd41e5c77c1f"
      },
      "execution_count": null,
      "outputs": [
        {
          "output_type": "stream",
          "name": "stdout",
          "text": [
            "king 4.081079\n",
            "prince 5.0347586\n",
            "royal 5.069449\n",
            "majesty 5.189214\n",
            "crown 5.273718\n"
          ]
        }
      ]
    },
    {
      "cell_type": "code",
      "source": [],
      "metadata": {
        "id": "EJqEpqA-xdq_"
      },
      "execution_count": null,
      "outputs": []
    }
  ]
}